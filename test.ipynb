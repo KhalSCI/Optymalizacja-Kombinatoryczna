{
 "cells": [
  {
   "cell_type": "code",
   "execution_count": 1,
   "metadata": {},
   "outputs": [],
   "source": [
    "import pandas"
   ]
  },
  {
   "cell_type": "code",
   "execution_count": 2,
   "metadata": {},
   "outputs": [
    {
     "name": "stdout",
     "output_type": "stream",
     "text": [
      "Parameters    (30, 200, 1.0, 2.0, 0.3)\n",
      "Distance                    7548.99271\n",
      "Name: 1131, dtype: object\n"
     ]
    }
   ],
   "source": [
    "df = pandas.read_csv('data.csv')\n",
    "#find lowest distance\n",
    "min_distance = df['Distance'].min()\n",
    "#find index of lowest distance\n",
    "min_distance_index = df['Distance'].idxmin()\n",
    "#find the row with the lowest distance\n",
    "min_distance_row = df.loc[min_distance_index]\n",
    "print(min_distance_row)"
   ]
  }
 ],
 "metadata": {
  "kernelspec": {
   "display_name": "Python 3",
   "language": "python",
   "name": "python3"
  },
  "language_info": {
   "codemirror_mode": {
    "name": "ipython",
    "version": 3
   },
   "file_extension": ".py",
   "mimetype": "text/x-python",
   "name": "python",
   "nbconvert_exporter": "python",
   "pygments_lexer": "ipython3",
   "version": "3.10.12"
  }
 },
 "nbformat": 4,
 "nbformat_minor": 2
}
